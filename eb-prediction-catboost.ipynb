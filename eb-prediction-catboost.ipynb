{
 "cells": [
  {
   "cell_type": "code",
   "execution_count": 1,
   "id": "b0d1bd2a-c0d3-4813-a30d-6a8122c46171",
   "metadata": {},
   "outputs": [],
   "source": [
    "import catboost as cb\n",
    "from sklearn.model_selection import train_test_split\n",
    "from sklearn.metrics import mean_squared_error"
   ]
  },
  {
   "cell_type": "code",
   "execution_count": 2,
   "id": "d2d6690d-8b35-42ab-8484-03d6c0536a14",
   "metadata": {},
   "outputs": [],
   "source": [
    "import os\n",
    "import pandas as pd"
   ]
  },
  {
   "cell_type": "code",
   "execution_count": 3,
   "id": "5f4cba51-5334-48c4-806a-494d0429230e",
   "metadata": {},
   "outputs": [],
   "source": [
    "os.chdir(\"C:/Users/Satya Prakash/Documents\")\n",
    "eb_filename=\"EB_reading_new.xlsx\"\n",
    "sheet_name='EB_reading'\n",
    "data=pd.read_excel(eb_filename, sheet_name=sheet_name)"
   ]
  },
  {
   "cell_type": "code",
   "execution_count": 4,
   "id": "455d8157-6e1d-4819-8e7d-e8f5e909a36e",
   "metadata": {},
   "outputs": [],
   "source": [
    "X = data[['Block', 'Unit', 'Level', 'Facing', 'month', 'year']]\n",
    "y = data['consumption']"
   ]
  },
  {
   "cell_type": "code",
   "execution_count": 5,
   "id": "d24e416e-a6f5-409d-bc7b-00d9c47c68a2",
   "metadata": {},
   "outputs": [],
   "source": [
    "X_train, X_test, y_train, y_test = train_test_split(X, y, test_size=0.2, random_state=42)"
   ]
  },
  {
   "cell_type": "code",
   "execution_count": 6,
   "id": "7b0f66e6-82f5-490b-8a04-31801483e2b4",
   "metadata": {},
   "outputs": [
    {
     "data": {
      "text/plain": [
       "<catboost.core.CatBoostRegressor at 0x16c8f1bfb10>"
      ]
     },
     "execution_count": 6,
     "metadata": {},
     "output_type": "execute_result"
    }
   ],
   "source": [
    "# Training the model\n",
    "model = cb.CatBoostRegressor(cat_features=['Block', 'Unit', 'Level', 'Facing', 'month', 'year'], verbose=0)\n",
    "model.fit(X_train, y_train)"
   ]
  },
  {
   "cell_type": "code",
   "execution_count": 7,
   "id": "0e7f0301-3141-4ec5-bcd7-1197cab40bc7",
   "metadata": {},
   "outputs": [
    {
     "name": "stdout",
     "output_type": "stream",
     "text": [
      "Mean Squared Error: 531107.2975738484\n"
     ]
    }
   ],
   "source": [
    "# Making predictions\n",
    "y_pred = model.predict(X_test)\n",
    "mse = mean_squared_error(y_test, y_pred)\n",
    "print(\"Mean Squared Error:\", mse)"
   ]
  },
  {
   "cell_type": "code",
   "execution_count": 19,
   "id": "b0faf2bf-82fa-4d82-8efd-0a2255d724d2",
   "metadata": {},
   "outputs": [
    {
     "name": "stdout",
     "output_type": "stream",
     "text": [
      "unit: P1-1A  Predicted consumption: 122.91055952734206\n"
     ]
    }
   ],
   "source": [
    "flat_list=['P1-1A','P1-1B','P1-1C','P1-1D','P1-2A','P1-2B','P1-2C','P1-2D','P1-3A','P1-3B','P1-3C','P1-3D','P1-4A','P1-4B','P1-4C','P1-4D','P1-5A','P1-5B','P1-5C','P1-5D','P1-6A','P1-6B','P1-6C','P1-6D','P1-7A','P1-7B','P1-7C','P1-7D','P1-8A','P1-8B','P1-8C','P1-8D','P1-9A','P1-9B','P1-9C','P1-9D','P1-10A','P1-10B','P1-10C','P1-10D','P1-11A','P1-11B','P1-11C','P1-11D','P1-12A','P1-12B','P1-12C','P1-12D','P1-14A','P1-14B','P1-14C','P1-14D','P1-15A','P1-15B','P1-15C','P1-15D','P1-16A','P1-16B','P1-16C','P1-16D','P1-17A','P1-17B','P1-17C','P1-17D','P1-18A','P1-18B','P1-18C','P1-18D','P1-19A','P1-19B','P1-19C','P1-19D','P1-20A','P1-20B','P1-20C','P1-20D','P1-21A','P1-21B','P1-21C','P1-21D','P1-22A','P1-22B','P1-22C','P1-22D','P1-23A','P1-23B','P1-23C','P1-23D','P1-24A','P1-24B','P1-24C','P1-24D','P1-25A','P1-25B','P1-25C','P1-25D','P1-26A','P1-26B','P1-26C',\n",
    "'P1-26D','P1-27A','P1-27B','P1-27C','P1-27D','P1-28A','P1-28B','P1-28C','P1-28D','P1-29A','P1-29B','P1-29C','P1-29D','P1-30A','P1-30B','P1-30C','P1-30D','P1-31A','P1-31B','P1-31C','P1-31D','P1-32A','P1-32B','P1-32C','P1-32D','P1-33A','P1-33B','P1-33C','P1-33D','P1-34A','P1-34B','P1-34C','P1-34D','P1-35A','P1-35B','P1-35C','P1-35D','P1-36A','P1-36B','P1-36C','P1-6D','P1-37A','P1-37B','P1-37C','P1-37D','P1-38A','P1-38B','P1-38C','P1-38D','P1-39A','P1-39B','P1-39C','P1-39D','P1-40A','P1-40B','P1-40C','P1-40D','P1-41A','P1-41B','P1-41C','P1-41D','P1-42A','P1-42B','P1-42C','P1-42D','P1-43A','P1-43B','P1-43C','P1-43D','P1-44A','P1-44B','P1-44C','P1-44D','P1-45A','P1-45B','P1-45C','P1-45D','P2-1A','P2-1B','P2-1C','P2-1D','P2-2A','P2-2B','P2-2C','P2-2D','P2-3A','P2-3B','P2-3C','P2-3D','P2-4A','P2-4B','P2-4C','P2-4D','P2-5A','P2-5B','P2-5C','P2-5D',\n",
    "'P2-6A','P2-6B','P2-6C','P2-6D','P2-7A','P2-7B','P2-7C','P2-7D','P2-8A','P2-8B','P2-8C','P2-8D','P2-9A','P2-9B','P2-9C','P2-9D','P2-10A','P2-10B','P2-10C','P2-10D','P2-11A','P2-11B','P2-11C','P2-11D','P2-12A','P2-12B','P2-12C','P2-12D','P2-14A','P2-14B','P2-14C','P2-14D','P2-15A','P2-15B','P2-15C','P2-15D','P2-16A','P2-16B','P2-16C','P2-16D','P2-17A','P2-17B','P2-17C','P2-17D','P2-18A','P2-18B','P2-18C','P2-18D','P2-19A','P2-19B','P2-19C','P2-19D','P2-20A','P2-20B','P2-20C','P2-20D','P2-21A','P2-21B','P2-21C','P2-21D','P2-22A','P2-22B','P2-2C','P2-22D','P2-23A','P2-23B','P2-23C','P2-23D','P2-24A','P2-24B','P2-24C','P2-24D','P2-25A','P2-25B','P2-25C','P2-25D','P2-26A','P2-26B','P2-26C','P2-26D','P2-27A','P2-27B','P2-27C','P2-27D','P3-1A','P3-1B','P3-1C','P3-1D','P3-2A','P3-2B','P3-2C','P3-2D','P3-3A','P3-3B','P3-3C','P3-3D','P3-4A','P3-4B',\n",
    "'P3-4C','P3-4D','P3-5A','P3-5B','P3-5C','P3-5D','P3-6A','P3-6B','P3-6C','P3-6D','P3-7A','P3-7B','P3-7C','P3-7D','P3-8A','P3-8B','P3-8C','P3-8D','P3-9A','P3-9B','P3-9C','P3-9D','P3-1A','P3-10B','P3-10C','P3-10D','P3-11A','P3-11B','P3-11C','P3-11D','P3-12A','P3-12B','P3-12C','P3-12D','P3-14A','P3-14B','P3-14C','P3-14D','P3-15A','P3-15B','P3-15C','P3-15D','P3-16A','P3-16B','P3-16C','P3-16D','P3-17A','P3-17B','P3-17C','P3-17D','P3-18A','P3-18B','P3-18C','P3-18D','P3-19A','P3-19B','P3-19C','P3-19D','P3-20A','P3-20B','P3-20C','P3-20D','P3-21A','P3-21B','P3-21C','P3-21D','P3-22A','P3-22B','P3-22C','P3-22D','P3-23A','P3-23B','P3-23C','P3-23D','P3-24A','P3-24B','P3-24C','P3-24D','P3-25A','P3-25B','P3-25C','P3-25D','P3-26A','P3-6B','P3-26C','P3-26D','P3-27A','P3-27B','P3-27C','P3-27D','P3-28A','P3-28B','P3-28C','P3-28D','P3-29A','P3-29B','P3-29C','P3-29D',\n",
    "'P3-30A','P3-30B','P3-30C','P3-30D','P3-31A','P3-31B','P3-31C','P3-31D','P3-32A','P3-32B','P3-32C','P3-32D','P3-33A','P3-33B','P3-33C','P3-33D','P3-34A','P3-34B','P3-34C','P3-34D','P3-35A','P3-35B','P3-35C','P3-35D','P3-36A','P3-36B','P3-36C','P3-36D','P3-37A','P3-37B','P3-37C','P3-37D','P3-38A','P3-38B','P3-38C','P3-38D','P3-39A','P3-39B','P3-39C','P3-39D','P3-40A','P3-40B','P3-40C','P3-40D','P3-41A','P3-41B','P3-41C','P3-41D','P3-42A','P3-42B','P3-42C','P3-42D','P3-43A','P3-43B','P3-43C','P3-43D','P4-1A','P4-1B','P4-1C','P4-1D','P4-2A','P4-2B','P4-2C','P4-2D','P4-3A','P4-3B','P4-3C','P4-3D','P4-4A','P4-4B','P4-4C','P4-4D','P4-5A','P4-5B','P4-5C','P4-5D','P4-6A','P4-6B','P4-6C','P4-6D','P4-7A','P4-7B','P4-7C','P4-7D','P4-8A','P4-8B','P4-8C','P4-8D','P4-9A','P4-9B','P4-9C','P4-9D','P4-10A','P4-10B','P4-10C','P4-10D','P4-11A',\n",
    "'P4-11B','P4-11C','P4-11D','P4-12A','P4-12B','P4-12C','P4-12D','P4-14A','P4-14B','P4-14C','P4-14D','P4-15A','P4-15B','P4-15C','P4-15D','P4-16A','P4-16B','P4-16C','P4-16D','P4-17A','P4-17B','P4-17C','P4-17D','P4-18A','P4-18B','P4-18C','P4-18D','P4-19A','P4-19B','P4-19C','P4-19D','P5-1A','P5-1B','P5-1C','P5-1D','P5-2A','P5-2B','P5-2C','P5-2D','P5-3A','P5-3B','P5-3C','P5-3D','P5-4A','P5-4B','P5-4C','P5-4D','P5-5A','P5-5B','P5-5C','P5-5D','P5-6A','P5-6B','P5-6C','P5-6D','P5-7A','P5-7B','P5-7C','P5-7D','P5-8A','P5-8B','P5-8C','P5-8D','P5-9A','P5-9B','P5-9C','P5-9D','P5-10A','P5-10B','P5-10C','P5-10D','P5-11A','P5-11B','P5-11C','P5-11D','P5-12A','P5-12B','P5-12C','P5-12D','P5-14A','P5-14B','P5-14C','P5-14D','P5-15A','P5-15B','P5-15C','P5-15D','P5-16A','P5-16B','P5-16C','P5-16D','P5-17A','P5-17B','P5-17C','P5-17D','P5-18A','P5-18B',\n",
    "'P5-18C','P5-18D','P5-19A','P5-19B','P5-19C','P5-19D','P5-20A','P5-20B','P5-20C','P5-20D','P5-21A','P5-21B','P5-21C','P5-21D','P5-22A','P5-22B','P5-22C','P5-22D','P5-23A','P5-23B','P5-23C','P5-23D','P5-24A','P5-24B','P5-24C','P5-24D','P5-25A','P5-25B','P5-25C','P5-25D','P5-26A','P5-26B','P5-26C','P5-26D','P5-27A','P5-27B','P5-27C','P5-27D','P5-28A','P5-28B','P5-8C','P5-28D','P5-29A','P5-29B','P5-29C','P5-29D','P5-30A','P5-30B','P5-30C','P5-30D','P5-31A','P5-31B','P5-31C','P5-31D','P6-1A','P6-1B','P6-1C','P6-1D','P6-2A','P6-2B','P6-2C','P6-2D','P6-3A','P6-3B','P6-3C','P6-3D','P6-4A','P6-4B','P6-4C','P6-4D','P6-5A','P6-5B','P6-5C','P6-5D','P6-6A','P6-6B','P6-6C','P6-6D','P6-7A','P6-7B','P6-7C','P6-7D','P6-8A','P6-8B','P6-8C','P6-8D','P6-9A','P6-9B','P6-9C','P6-9D','P6-10A','P6-10B','P6-10C','P6-10D','P6-11A','P6-11B','P6-11C',\n",
    "'P6-11D','P6-12A','P6-12B','P6-12C','P6-12D','P6-14A','P6-14B','P6-14C','P6-14D','P6-15A','P6-15B','P6-15C','P6-15D','P6-16A','P6-16B','P6-16C','P6-16D','P6-17A','P6-17B','P6-17C','P6-17D','P7-1A','P7-1B','P7-1C','P7-1D','P7-2A','P7-2B','P7-2C','P7-2D','P7-3A','P7-3B','P7-3C','P7-3D','P7-4A','P7-4B','P7-4C','P7-4D','P7-5A','P7-5B','P7-5C','P7-5D','P7-6A','P7-6B','P7-6C','P7-6D','P7-7A','P7-7B','P7-7C','P7-7D','P7-8A','P7-8B','P7-8C','P7-8D']\n",
    "\n",
    "\n",
    "#for unit in flat_list:\n",
    "    # Predict on a new single sample\n",
    "new_sample = pd.DataFrame({\n",
    "        'Block':'P1',\n",
    "        'Unit':'14',\n",
    "        'Level':'B',\n",
    "        'Facing':'South',\n",
    "        'month': ['Feb'],\n",
    "        'year': [2024]\n",
    "    })\n",
    "    \n",
    "# Ensure the new sample is processed in the same way as the training data\n",
    "predicted_price = model.predict(new_sample)\n",
    "print(\"unit:\",unit,\" Predicted consumption:\", predicted_price[0])"
   ]
  },
  {
   "cell_type": "code",
   "execution_count": null,
   "id": "78347692-367f-4d7e-ac9b-71eec3b384e0",
   "metadata": {},
   "outputs": [],
   "source": []
  }
 ],
 "metadata": {
  "kernelspec": {
   "display_name": "Python 3 (ipykernel)",
   "language": "python",
   "name": "python3"
  },
  "language_info": {
   "codemirror_mode": {
    "name": "ipython",
    "version": 3
   },
   "file_extension": ".py",
   "mimetype": "text/x-python",
   "name": "python",
   "nbconvert_exporter": "python",
   "pygments_lexer": "ipython3",
   "version": "3.11.7"
  }
 },
 "nbformat": 4,
 "nbformat_minor": 5
}
